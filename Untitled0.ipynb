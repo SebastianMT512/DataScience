{
  "nbformat": 4,
  "nbformat_minor": 0,
  "metadata": {
    "colab": {
      "provenance": [],
      "toc_visible": true,
      "include_colab_link": true
    },
    "kernelspec": {
      "name": "python3",
      "display_name": "Python 3"
    },
    "language_info": {
      "name": "python"
    }
  },
  "cells": [
    {
      "cell_type": "markdown",
      "metadata": {
        "id": "view-in-github",
        "colab_type": "text"
      },
      "source": [
        "<a href=\"https://colab.research.google.com/github/SebastianMT512/DataScience/blob/main/Untitled0.ipynb\" target=\"_parent\"><img src=\"https://colab.research.google.com/assets/colab-badge.svg\" alt=\"Open In Colab\"/></a>"
      ]
    },
    {
      "cell_type": "code",
      "execution_count": null,
      "metadata": {
        "id": "jKV4ZzCx_HlS",
        "colab": {
          "base_uri": "https://localhost:8080/"
        },
        "outputId": "4b61489c-a652-4519-8433-07eeb3d9adee"
      },
      "outputs": [
        {
          "output_type": "stream",
          "name": "stdout",
          "text": [
            "This is a test\n"
          ]
        }
      ],
      "source": [
        "print(\"This is a test\")"
      ]
    },
    {
      "cell_type": "code",
      "source": [
        "a = ['Sergio', 21, 'Perro', 2002 ]\n",
        "b = ['Santiago', 22, 'Gato', 2001 ]\n",
        "c = ['Sebastian', 22, 'Lobo', 2000 ]"
      ],
      "metadata": {
        "id": "BZWVGz8f_6pc"
      },
      "execution_count": null,
      "outputs": []
    },
    {
      "cell_type": "code",
      "source": [
        "print(f'{a} \\n{b} \\n{c}')"
      ],
      "metadata": {
        "colab": {
          "base_uri": "https://localhost:8080/"
        },
        "id": "JbZX1-dEAaqt",
        "outputId": "66823a5b-edf8-4cba-d373-0b9a5b2ae4c1"
      },
      "execution_count": null,
      "outputs": [
        {
          "output_type": "stream",
          "name": "stdout",
          "text": [
            "['Sergio', 21, 'Perro', 2002] \n",
            "['Santiago', 22, 'Gato', 2001] \n",
            "['Sebastian', 22, 'Lobo', 2000]\n"
          ]
        }
      ]
    },
    {
      "cell_type": "markdown",
      "source": [
        "Hola amigos\n",
        "\n",
        "# New Section\n",
        "sskl\n",
        "\n",
        "_asdasd_"
      ],
      "metadata": {
        "id": "oPJ4DT7CMVt2"
      }
    },
    {
      "cell_type": "code",
      "source": [
        "d = [a, b, c]"
      ],
      "metadata": {
        "id": "8uwytWOjAn2V"
      },
      "execution_count": null,
      "outputs": []
    },
    {
      "cell_type": "code",
      "source": [
        "import pandas as pd\n",
        "\n",
        "pd.DataFrame(d, columns=['Nombre', 'Edad', 'Animal', 'Año'])"
      ],
      "metadata": {
        "colab": {
          "base_uri": "https://localhost:8080/",
          "height": 143
        },
        "id": "bZOo4zseBsWw",
        "outputId": "bd4ec8f2-8e25-478a-e839-d15e886018f6"
      },
      "execution_count": null,
      "outputs": [
        {
          "output_type": "execute_result",
          "data": {
            "text/plain": [
              "      Nombre  Edad Animal   Año\n",
              "0     Sergio    21  Perro  2002\n",
              "1   Santiago    22   Gato  2001\n",
              "2  Sebastian    22   Lobo  2000"
            ],
            "text/html": [
              "\n",
              "\n",
              "  <div id=\"df-eebc5526-9307-4029-a6b8-0579b9b6a4b3\">\n",
              "    <div class=\"colab-df-container\">\n",
              "      <div>\n",
              "<style scoped>\n",
              "    .dataframe tbody tr th:only-of-type {\n",
              "        vertical-align: middle;\n",
              "    }\n",
              "\n",
              "    .dataframe tbody tr th {\n",
              "        vertical-align: top;\n",
              "    }\n",
              "\n",
              "    .dataframe thead th {\n",
              "        text-align: right;\n",
              "    }\n",
              "</style>\n",
              "<table border=\"1\" class=\"dataframe\">\n",
              "  <thead>\n",
              "    <tr style=\"text-align: right;\">\n",
              "      <th></th>\n",
              "      <th>Nombre</th>\n",
              "      <th>Edad</th>\n",
              "      <th>Animal</th>\n",
              "      <th>Año</th>\n",
              "    </tr>\n",
              "  </thead>\n",
              "  <tbody>\n",
              "    <tr>\n",
              "      <th>0</th>\n",
              "      <td>Sergio</td>\n",
              "      <td>21</td>\n",
              "      <td>Perro</td>\n",
              "      <td>2002</td>\n",
              "    </tr>\n",
              "    <tr>\n",
              "      <th>1</th>\n",
              "      <td>Santiago</td>\n",
              "      <td>22</td>\n",
              "      <td>Gato</td>\n",
              "      <td>2001</td>\n",
              "    </tr>\n",
              "    <tr>\n",
              "      <th>2</th>\n",
              "      <td>Sebastian</td>\n",
              "      <td>22</td>\n",
              "      <td>Lobo</td>\n",
              "      <td>2000</td>\n",
              "    </tr>\n",
              "  </tbody>\n",
              "</table>\n",
              "</div>\n",
              "      <button class=\"colab-df-convert\" onclick=\"convertToInteractive('df-eebc5526-9307-4029-a6b8-0579b9b6a4b3')\"\n",
              "              title=\"Convert this dataframe to an interactive table.\"\n",
              "              style=\"display:none;\">\n",
              "\n",
              "  <svg xmlns=\"http://www.w3.org/2000/svg\" height=\"24px\"viewBox=\"0 0 24 24\"\n",
              "       width=\"24px\">\n",
              "    <path d=\"M0 0h24v24H0V0z\" fill=\"none\"/>\n",
              "    <path d=\"M18.56 5.44l.94 2.06.94-2.06 2.06-.94-2.06-.94-.94-2.06-.94 2.06-2.06.94zm-11 1L8.5 8.5l.94-2.06 2.06-.94-2.06-.94L8.5 2.5l-.94 2.06-2.06.94zm10 10l.94 2.06.94-2.06 2.06-.94-2.06-.94-.94-2.06-.94 2.06-2.06.94z\"/><path d=\"M17.41 7.96l-1.37-1.37c-.4-.4-.92-.59-1.43-.59-.52 0-1.04.2-1.43.59L10.3 9.45l-7.72 7.72c-.78.78-.78 2.05 0 2.83L4 21.41c.39.39.9.59 1.41.59.51 0 1.02-.2 1.41-.59l7.78-7.78 2.81-2.81c.8-.78.8-2.07 0-2.86zM5.41 20L4 18.59l7.72-7.72 1.47 1.35L5.41 20z\"/>\n",
              "  </svg>\n",
              "      </button>\n",
              "\n",
              "\n",
              "\n",
              "    <div id=\"df-251d8d0f-26f6-41ce-a9e9-1f5de82faa21\">\n",
              "      <button class=\"colab-df-quickchart\" onclick=\"quickchart('df-251d8d0f-26f6-41ce-a9e9-1f5de82faa21')\"\n",
              "              title=\"Suggest charts.\"\n",
              "              style=\"display:none;\">\n",
              "\n",
              "<svg xmlns=\"http://www.w3.org/2000/svg\" height=\"24px\"viewBox=\"0 0 24 24\"\n",
              "     width=\"24px\">\n",
              "    <g>\n",
              "        <path d=\"M19 3H5c-1.1 0-2 .9-2 2v14c0 1.1.9 2 2 2h14c1.1 0 2-.9 2-2V5c0-1.1-.9-2-2-2zM9 17H7v-7h2v7zm4 0h-2V7h2v10zm4 0h-2v-4h2v4z\"/>\n",
              "    </g>\n",
              "</svg>\n",
              "      </button>\n",
              "    </div>\n",
              "\n",
              "<style>\n",
              "  .colab-df-quickchart {\n",
              "    background-color: #E8F0FE;\n",
              "    border: none;\n",
              "    border-radius: 50%;\n",
              "    cursor: pointer;\n",
              "    display: none;\n",
              "    fill: #1967D2;\n",
              "    height: 32px;\n",
              "    padding: 0 0 0 0;\n",
              "    width: 32px;\n",
              "  }\n",
              "\n",
              "  .colab-df-quickchart:hover {\n",
              "    background-color: #E2EBFA;\n",
              "    box-shadow: 0px 1px 2px rgba(60, 64, 67, 0.3), 0px 1px 3px 1px rgba(60, 64, 67, 0.15);\n",
              "    fill: #174EA6;\n",
              "  }\n",
              "\n",
              "  [theme=dark] .colab-df-quickchart {\n",
              "    background-color: #3B4455;\n",
              "    fill: #D2E3FC;\n",
              "  }\n",
              "\n",
              "  [theme=dark] .colab-df-quickchart:hover {\n",
              "    background-color: #434B5C;\n",
              "    box-shadow: 0px 1px 3px 1px rgba(0, 0, 0, 0.15);\n",
              "    filter: drop-shadow(0px 1px 2px rgba(0, 0, 0, 0.3));\n",
              "    fill: #FFFFFF;\n",
              "  }\n",
              "</style>\n",
              "\n",
              "    <script>\n",
              "      async function quickchart(key) {\n",
              "        const containerElement = document.querySelector('#' + key);\n",
              "        const charts = await google.colab.kernel.invokeFunction(\n",
              "            'suggestCharts', [key], {});\n",
              "      }\n",
              "    </script>\n",
              "\n",
              "      <script>\n",
              "\n",
              "function displayQuickchartButton(domScope) {\n",
              "  let quickchartButtonEl =\n",
              "    domScope.querySelector('#df-251d8d0f-26f6-41ce-a9e9-1f5de82faa21 button.colab-df-quickchart');\n",
              "  quickchartButtonEl.style.display =\n",
              "    google.colab.kernel.accessAllowed ? 'block' : 'none';\n",
              "}\n",
              "\n",
              "        displayQuickchartButton(document);\n",
              "      </script>\n",
              "      <style>\n",
              "    .colab-df-container {\n",
              "      display:flex;\n",
              "      flex-wrap:wrap;\n",
              "      gap: 12px;\n",
              "    }\n",
              "\n",
              "    .colab-df-convert {\n",
              "      background-color: #E8F0FE;\n",
              "      border: none;\n",
              "      border-radius: 50%;\n",
              "      cursor: pointer;\n",
              "      display: none;\n",
              "      fill: #1967D2;\n",
              "      height: 32px;\n",
              "      padding: 0 0 0 0;\n",
              "      width: 32px;\n",
              "    }\n",
              "\n",
              "    .colab-df-convert:hover {\n",
              "      background-color: #E2EBFA;\n",
              "      box-shadow: 0px 1px 2px rgba(60, 64, 67, 0.3), 0px 1px 3px 1px rgba(60, 64, 67, 0.15);\n",
              "      fill: #174EA6;\n",
              "    }\n",
              "\n",
              "    [theme=dark] .colab-df-convert {\n",
              "      background-color: #3B4455;\n",
              "      fill: #D2E3FC;\n",
              "    }\n",
              "\n",
              "    [theme=dark] .colab-df-convert:hover {\n",
              "      background-color: #434B5C;\n",
              "      box-shadow: 0px 1px 3px 1px rgba(0, 0, 0, 0.15);\n",
              "      filter: drop-shadow(0px 1px 2px rgba(0, 0, 0, 0.3));\n",
              "      fill: #FFFFFF;\n",
              "    }\n",
              "  </style>\n",
              "\n",
              "      <script>\n",
              "        const buttonEl =\n",
              "          document.querySelector('#df-eebc5526-9307-4029-a6b8-0579b9b6a4b3 button.colab-df-convert');\n",
              "        buttonEl.style.display =\n",
              "          google.colab.kernel.accessAllowed ? 'block' : 'none';\n",
              "\n",
              "        async function convertToInteractive(key) {\n",
              "          const element = document.querySelector('#df-eebc5526-9307-4029-a6b8-0579b9b6a4b3');\n",
              "          const dataTable =\n",
              "            await google.colab.kernel.invokeFunction('convertToInteractive',\n",
              "                                                     [key], {});\n",
              "          if (!dataTable) return;\n",
              "\n",
              "          const docLinkHtml = 'Like what you see? Visit the ' +\n",
              "            '<a target=\"_blank\" href=https://colab.research.google.com/notebooks/data_table.ipynb>data table notebook</a>'\n",
              "            + ' to learn more about interactive tables.';\n",
              "          element.innerHTML = '';\n",
              "          dataTable['output_type'] = 'display_data';\n",
              "          await google.colab.output.renderOutput(dataTable, element);\n",
              "          const docLink = document.createElement('div');\n",
              "          docLink.innerHTML = docLinkHtml;\n",
              "          element.appendChild(docLink);\n",
              "        }\n",
              "      </script>\n",
              "    </div>\n",
              "  </div>\n"
            ]
          },
          "metadata": {},
          "execution_count": 8
        }
      ]
    },
    {
      "cell_type": "code",
      "source": [
        "e=pd.DataFrame(columns=['Dia', 'Mes', 'Año'])\n"
      ],
      "metadata": {
        "id": "WKv3QoXnMcUn"
      },
      "execution_count": null,
      "outputs": []
    },
    {
      "cell_type": "code",
      "source": [
        "e=e.append({'Dia':34, 'Mes':12, 'Año':1241}, ignore_index=True)\n",
        "e"
      ],
      "metadata": {
        "colab": {
          "base_uri": "https://localhost:8080/",
          "height": 135
        },
        "id": "VFYPEZODgkVq",
        "outputId": "bc434969-df42-4118-fabb-67fe450c72d5"
      },
      "execution_count": null,
      "outputs": [
        {
          "output_type": "stream",
          "name": "stderr",
          "text": [
            "<ipython-input-10-63e7edef1392>:1: FutureWarning: The frame.append method is deprecated and will be removed from pandas in a future version. Use pandas.concat instead.\n",
            "  e=e.append({'Dia':34, 'Mes':12, 'Año':1241}, ignore_index=True)\n"
          ]
        },
        {
          "output_type": "execute_result",
          "data": {
            "text/plain": [
              "  Dia Mes   Año\n",
              "0  34  12  1241"
            ],
            "text/html": [
              "\n",
              "\n",
              "  <div id=\"df-772451e6-923a-4ade-bde6-3a9b2335c410\">\n",
              "    <div class=\"colab-df-container\">\n",
              "      <div>\n",
              "<style scoped>\n",
              "    .dataframe tbody tr th:only-of-type {\n",
              "        vertical-align: middle;\n",
              "    }\n",
              "\n",
              "    .dataframe tbody tr th {\n",
              "        vertical-align: top;\n",
              "    }\n",
              "\n",
              "    .dataframe thead th {\n",
              "        text-align: right;\n",
              "    }\n",
              "</style>\n",
              "<table border=\"1\" class=\"dataframe\">\n",
              "  <thead>\n",
              "    <tr style=\"text-align: right;\">\n",
              "      <th></th>\n",
              "      <th>Dia</th>\n",
              "      <th>Mes</th>\n",
              "      <th>Año</th>\n",
              "    </tr>\n",
              "  </thead>\n",
              "  <tbody>\n",
              "    <tr>\n",
              "      <th>0</th>\n",
              "      <td>34</td>\n",
              "      <td>12</td>\n",
              "      <td>1241</td>\n",
              "    </tr>\n",
              "  </tbody>\n",
              "</table>\n",
              "</div>\n",
              "      <button class=\"colab-df-convert\" onclick=\"convertToInteractive('df-772451e6-923a-4ade-bde6-3a9b2335c410')\"\n",
              "              title=\"Convert this dataframe to an interactive table.\"\n",
              "              style=\"display:none;\">\n",
              "\n",
              "  <svg xmlns=\"http://www.w3.org/2000/svg\" height=\"24px\"viewBox=\"0 0 24 24\"\n",
              "       width=\"24px\">\n",
              "    <path d=\"M0 0h24v24H0V0z\" fill=\"none\"/>\n",
              "    <path d=\"M18.56 5.44l.94 2.06.94-2.06 2.06-.94-2.06-.94-.94-2.06-.94 2.06-2.06.94zm-11 1L8.5 8.5l.94-2.06 2.06-.94-2.06-.94L8.5 2.5l-.94 2.06-2.06.94zm10 10l.94 2.06.94-2.06 2.06-.94-2.06-.94-.94-2.06-.94 2.06-2.06.94z\"/><path d=\"M17.41 7.96l-1.37-1.37c-.4-.4-.92-.59-1.43-.59-.52 0-1.04.2-1.43.59L10.3 9.45l-7.72 7.72c-.78.78-.78 2.05 0 2.83L4 21.41c.39.39.9.59 1.41.59.51 0 1.02-.2 1.41-.59l7.78-7.78 2.81-2.81c.8-.78.8-2.07 0-2.86zM5.41 20L4 18.59l7.72-7.72 1.47 1.35L5.41 20z\"/>\n",
              "  </svg>\n",
              "      </button>\n",
              "\n",
              "\n",
              "\n",
              "    <div id=\"df-40df8b8e-9d18-4be6-a309-6a97dafc28b3\">\n",
              "      <button class=\"colab-df-quickchart\" onclick=\"quickchart('df-40df8b8e-9d18-4be6-a309-6a97dafc28b3')\"\n",
              "              title=\"Suggest charts.\"\n",
              "              style=\"display:none;\">\n",
              "\n",
              "<svg xmlns=\"http://www.w3.org/2000/svg\" height=\"24px\"viewBox=\"0 0 24 24\"\n",
              "     width=\"24px\">\n",
              "    <g>\n",
              "        <path d=\"M19 3H5c-1.1 0-2 .9-2 2v14c0 1.1.9 2 2 2h14c1.1 0 2-.9 2-2V5c0-1.1-.9-2-2-2zM9 17H7v-7h2v7zm4 0h-2V7h2v10zm4 0h-2v-4h2v4z\"/>\n",
              "    </g>\n",
              "</svg>\n",
              "      </button>\n",
              "    </div>\n",
              "\n",
              "<style>\n",
              "  .colab-df-quickchart {\n",
              "    background-color: #E8F0FE;\n",
              "    border: none;\n",
              "    border-radius: 50%;\n",
              "    cursor: pointer;\n",
              "    display: none;\n",
              "    fill: #1967D2;\n",
              "    height: 32px;\n",
              "    padding: 0 0 0 0;\n",
              "    width: 32px;\n",
              "  }\n",
              "\n",
              "  .colab-df-quickchart:hover {\n",
              "    background-color: #E2EBFA;\n",
              "    box-shadow: 0px 1px 2px rgba(60, 64, 67, 0.3), 0px 1px 3px 1px rgba(60, 64, 67, 0.15);\n",
              "    fill: #174EA6;\n",
              "  }\n",
              "\n",
              "  [theme=dark] .colab-df-quickchart {\n",
              "    background-color: #3B4455;\n",
              "    fill: #D2E3FC;\n",
              "  }\n",
              "\n",
              "  [theme=dark] .colab-df-quickchart:hover {\n",
              "    background-color: #434B5C;\n",
              "    box-shadow: 0px 1px 3px 1px rgba(0, 0, 0, 0.15);\n",
              "    filter: drop-shadow(0px 1px 2px rgba(0, 0, 0, 0.3));\n",
              "    fill: #FFFFFF;\n",
              "  }\n",
              "</style>\n",
              "\n",
              "    <script>\n",
              "      async function quickchart(key) {\n",
              "        const containerElement = document.querySelector('#' + key);\n",
              "        const charts = await google.colab.kernel.invokeFunction(\n",
              "            'suggestCharts', [key], {});\n",
              "      }\n",
              "    </script>\n",
              "\n",
              "      <script>\n",
              "\n",
              "function displayQuickchartButton(domScope) {\n",
              "  let quickchartButtonEl =\n",
              "    domScope.querySelector('#df-40df8b8e-9d18-4be6-a309-6a97dafc28b3 button.colab-df-quickchart');\n",
              "  quickchartButtonEl.style.display =\n",
              "    google.colab.kernel.accessAllowed ? 'block' : 'none';\n",
              "}\n",
              "\n",
              "        displayQuickchartButton(document);\n",
              "      </script>\n",
              "      <style>\n",
              "    .colab-df-container {\n",
              "      display:flex;\n",
              "      flex-wrap:wrap;\n",
              "      gap: 12px;\n",
              "    }\n",
              "\n",
              "    .colab-df-convert {\n",
              "      background-color: #E8F0FE;\n",
              "      border: none;\n",
              "      border-radius: 50%;\n",
              "      cursor: pointer;\n",
              "      display: none;\n",
              "      fill: #1967D2;\n",
              "      height: 32px;\n",
              "      padding: 0 0 0 0;\n",
              "      width: 32px;\n",
              "    }\n",
              "\n",
              "    .colab-df-convert:hover {\n",
              "      background-color: #E2EBFA;\n",
              "      box-shadow: 0px 1px 2px rgba(60, 64, 67, 0.3), 0px 1px 3px 1px rgba(60, 64, 67, 0.15);\n",
              "      fill: #174EA6;\n",
              "    }\n",
              "\n",
              "    [theme=dark] .colab-df-convert {\n",
              "      background-color: #3B4455;\n",
              "      fill: #D2E3FC;\n",
              "    }\n",
              "\n",
              "    [theme=dark] .colab-df-convert:hover {\n",
              "      background-color: #434B5C;\n",
              "      box-shadow: 0px 1px 3px 1px rgba(0, 0, 0, 0.15);\n",
              "      filter: drop-shadow(0px 1px 2px rgba(0, 0, 0, 0.3));\n",
              "      fill: #FFFFFF;\n",
              "    }\n",
              "  </style>\n",
              "\n",
              "      <script>\n",
              "        const buttonEl =\n",
              "          document.querySelector('#df-772451e6-923a-4ade-bde6-3a9b2335c410 button.colab-df-convert');\n",
              "        buttonEl.style.display =\n",
              "          google.colab.kernel.accessAllowed ? 'block' : 'none';\n",
              "\n",
              "        async function convertToInteractive(key) {\n",
              "          const element = document.querySelector('#df-772451e6-923a-4ade-bde6-3a9b2335c410');\n",
              "          const dataTable =\n",
              "            await google.colab.kernel.invokeFunction('convertToInteractive',\n",
              "                                                     [key], {});\n",
              "          if (!dataTable) return;\n",
              "\n",
              "          const docLinkHtml = 'Like what you see? Visit the ' +\n",
              "            '<a target=\"_blank\" href=https://colab.research.google.com/notebooks/data_table.ipynb>data table notebook</a>'\n",
              "            + ' to learn more about interactive tables.';\n",
              "          element.innerHTML = '';\n",
              "          dataTable['output_type'] = 'display_data';\n",
              "          await google.colab.output.renderOutput(dataTable, element);\n",
              "          const docLink = document.createElement('div');\n",
              "          docLink.innerHTML = docLinkHtml;\n",
              "          element.appendChild(docLink);\n",
              "        }\n",
              "      </script>\n",
              "    </div>\n",
              "  </div>\n"
            ]
          },
          "metadata": {},
          "execution_count": 10
        }
      ]
    },
    {
      "cell_type": "markdown",
      "source": [
        "DataSets ↑\n"
      ],
      "metadata": {
        "id": "io4Tgv1PhbR8"
      }
    },
    {
      "cell_type": "code",
      "source": [
        "f = [ 1, 2 ,3]\n",
        "g = [ 4, 5 ,6]\n",
        "h = [ 7, 8 ,9]"
      ],
      "metadata": {
        "id": "NYBtQyqfha_y"
      },
      "execution_count": null,
      "outputs": []
    },
    {
      "cell_type": "code",
      "source": [
        "hi=[f,g,h]\n",
        "hi"
      ],
      "metadata": {
        "colab": {
          "base_uri": "https://localhost:8080/"
        },
        "id": "bcIbiSAVimri",
        "outputId": "5e00af98-0897-471d-fbe0-5ebc804a2ae8"
      },
      "execution_count": null,
      "outputs": [
        {
          "output_type": "execute_result",
          "data": {
            "text/plain": [
              "[[1, 2, 3], [4, 5, 6], [7, 8, 9]]"
            ]
          },
          "metadata": {},
          "execution_count": 12
        }
      ]
    },
    {
      "cell_type": "code",
      "source": [
        "import pandas as pd\n",
        "pd.DataFrame(hi, columns=['Numero1', 'Numero2', 'Numero3'])\n",
        "\n"
      ],
      "metadata": {
        "colab": {
          "base_uri": "https://localhost:8080/",
          "height": 210
        },
        "id": "d0zef-AyjFc6",
        "outputId": "64c2ca59-22f1-4b0f-bc1f-38f6506a048e"
      },
      "execution_count": null,
      "outputs": [
        {
          "output_type": "error",
          "ename": "NameError",
          "evalue": "ignored",
          "traceback": [
            "\u001b[0;31m---------------------------------------------------------------------------\u001b[0m",
            "\u001b[0;31mNameError\u001b[0m                                 Traceback (most recent call last)",
            "\u001b[0;32m<ipython-input-25-e255bb35df17>\u001b[0m in \u001b[0;36m<cell line: 2>\u001b[0;34m()\u001b[0m\n\u001b[1;32m      1\u001b[0m \u001b[0;32mimport\u001b[0m \u001b[0mpandas\u001b[0m \u001b[0;32mas\u001b[0m \u001b[0mpd\u001b[0m\u001b[0;34m\u001b[0m\u001b[0;34m\u001b[0m\u001b[0m\n\u001b[0;32m----> 2\u001b[0;31m \u001b[0mpd\u001b[0m\u001b[0;34m.\u001b[0m\u001b[0mDataFrame\u001b[0m\u001b[0;34m(\u001b[0m\u001b[0mhi\u001b[0m\u001b[0;34m,\u001b[0m \u001b[0mcolumns\u001b[0m\u001b[0;34m=\u001b[0m\u001b[0;34m[\u001b[0m\u001b[0;34m'Numero1'\u001b[0m\u001b[0;34m,\u001b[0m \u001b[0;34m'Numero2'\u001b[0m\u001b[0;34m,\u001b[0m \u001b[0;34m'Numero3'\u001b[0m\u001b[0;34m]\u001b[0m\u001b[0;34m)\u001b[0m\u001b[0;34m\u001b[0m\u001b[0;34m\u001b[0m\u001b[0m\n\u001b[0m\u001b[1;32m      3\u001b[0m \u001b[0mIPontasdas\u001b[0m\u001b[0;34m\u001b[0m\u001b[0;34m\u001b[0m\u001b[0m\n",
            "\u001b[0;31mNameError\u001b[0m: name 'hi' is not defined"
          ]
        }
      ]
    },
    {
      "cell_type": "markdown",
      "source": [
        "suerte y muerte ![imagen_2023-08-11_213218772.png](data:image/png;base64,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)"
      ],
      "metadata": {
        "id": "Knp2O2B9lgSr"
      }
    },
    {
      "cell_type": "markdown",
      "source": [
        "[texto del enlace](https://pornhub.com)Hola amigosssssssss"
      ],
      "metadata": {
        "id": "CdFLmWuakmkm"
      }
    },
    {
      "cell_type": "markdown",
      "source": [
        "[texto del enlace](https://xvideos.com)\n"
      ],
      "metadata": {
        "id": "8YTGc4DOk9I7"
      }
    }
  ]
}